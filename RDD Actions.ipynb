{
 "cells": [
  {
   "cell_type": "code",
   "execution_count": 2,
   "id": "ae80d83e",
   "metadata": {},
   "outputs": [],
   "source": [
    "from pyspark import SparkContext, SparkConf"
   ]
  },
  {
   "cell_type": "markdown",
   "id": "e6594f84",
   "metadata": {},
   "source": [
    "First way to create Sparkcontext"
   ]
  },
  {
   "cell_type": "code",
   "execution_count": 3,
   "id": "25ce9178",
   "metadata": {},
   "outputs": [],
   "source": [
    "conf=SparkConf().setAppName(\"demo\").setMaster(\"local\")\n",
    "sc=SparkContext(conf=conf)\n"
   ]
  },
  {
   "cell_type": "code",
   "execution_count": 4,
   "id": "de86b1fd",
   "metadata": {},
   "outputs": [
    {
     "data": {
      "text/plain": [
       "[('spark.rdd.compress', 'True'),\n",
       " ('spark.driver.port', '64436'),\n",
       " ('spark.master', 'local'),\n",
       " ('spark.app.name', 'demo'),\n",
       " ('spark.app.startTime', '1652854797159'),\n",
       " ('spark.app.id', 'local-1652854802902'),\n",
       " ('spark.executor.id', 'driver'),\n",
       " ('spark.submit.pyFiles', ''),\n",
       " ('spark.submit.deployMode', 'client'),\n",
       " ('spark.serializer.objectStreamReset', '100'),\n",
       " ('spark.driver.host', 'JOKERDHARMIK'),\n",
       " ('spark.ui.showConsoleProgress', 'true')]"
      ]
     },
     "execution_count": 4,
     "metadata": {},
     "output_type": "execute_result"
    }
   ],
   "source": [
    "sc.getConf().getAll()"
   ]
  },
  {
   "cell_type": "code",
   "execution_count": 5,
   "id": "5f9d39be",
   "metadata": {},
   "outputs": [],
   "source": [
    "sc.stop()"
   ]
  },
  {
   "cell_type": "markdown",
   "id": "7dcfc878",
   "metadata": {},
   "source": [
    "Second Way to, Create SparkContext that loads settings"
   ]
  },
  {
   "cell_type": "code",
   "execution_count": 6,
   "id": "44b93d62",
   "metadata": {},
   "outputs": [],
   "source": [
    "sc=SparkContext()"
   ]
  },
  {
   "cell_type": "code",
   "execution_count": 7,
   "id": "e326cb87",
   "metadata": {},
   "outputs": [
    {
     "data": {
      "text/plain": [
       "[('spark.rdd.compress', 'True'),\n",
       " ('spark.master', 'local'),\n",
       " ('spark.app.name', 'demo'),\n",
       " ('spark.driver.port', '64486'),\n",
       " ('spark.app.id', 'local-1652854992792'),\n",
       " ('spark.executor.id', 'driver'),\n",
       " ('spark.submit.pyFiles', ''),\n",
       " ('spark.app.startTime', '1652854992527'),\n",
       " ('spark.submit.deployMode', 'client'),\n",
       " ('spark.serializer.objectStreamReset', '100'),\n",
       " ('spark.driver.host', 'JOKERDHARMIK'),\n",
       " ('spark.ui.showConsoleProgress', 'true')]"
      ]
     },
     "execution_count": 7,
     "metadata": {},
     "output_type": "execute_result"
    }
   ],
   "source": [
    "sc.getConf().getAll()"
   ]
  },
  {
   "cell_type": "code",
   "execution_count": 8,
   "id": "4d6cffda",
   "metadata": {},
   "outputs": [],
   "source": [
    "sc.stop()"
   ]
  },
  {
   "cell_type": "code",
   "execution_count": 9,
   "id": "53fe9752",
   "metadata": {},
   "outputs": [],
   "source": [
    "sc=SparkContext(\"local\",\"First App\")"
   ]
  },
  {
   "cell_type": "code",
   "execution_count": null,
   "id": "b26d72f3",
   "metadata": {},
   "outputs": [],
   "source": []
  },
  {
   "cell_type": "code",
   "execution_count": null,
   "id": "ccc87c42",
   "metadata": {},
   "outputs": [],
   "source": []
  }
 ],
 "metadata": {
  "kernelspec": {
   "display_name": "Python 3 (ipykernel)",
   "language": "python",
   "name": "python3"
  },
  "language_info": {
   "codemirror_mode": {
    "name": "ipython",
    "version": 3
   },
   "file_extension": ".py",
   "mimetype": "text/x-python",
   "name": "python",
   "nbconvert_exporter": "python",
   "pygments_lexer": "ipython3",
   "version": "3.9.5"
  },
  "vscode": {
   "interpreter": {
    "hash": "079b1946560ba735a391ff4227d609baf19cc5759588b06b9d3970f6211e3082"
   }
  }
 },
 "nbformat": 4,
 "nbformat_minor": 5
}
